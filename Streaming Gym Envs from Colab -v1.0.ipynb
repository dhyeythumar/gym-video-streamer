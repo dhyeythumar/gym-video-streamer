{
  "nbformat": 4,
  "nbformat_minor": 0,
  "metadata": {
    "colab": {
      "name": "Streaming Gym Envs from Colab -v1.0.ipynb",
      "provenance": [],
      "collapsed_sections": []
    },
    "kernelspec": {
      "name": "python3",
      "display_name": "Python 3"
    }
  },
  "cells": [
    {
      "cell_type": "markdown",
      "metadata": {
        "id": "PnIPlCJPOuWb"
      },
      "source": [
        "# **Video Streaming Wrapper for OpenAI's Gym Environments**\n",
        "\n",
        "\n",
        "---\n",
        "\n",
        "\n",
        "#### **Introducing `gym-video-streamer` a python package for live streaming gym training process.**\n",
        "\n",
        "Now you can Live Stream the Agent's learning behavior to Twitch/YouTube from Google Colab while training these Agents.\n",
        "\n",
        "**GitHub repo - https://github.com/dhyeythumar/gym-video-streamer/tree/v1.0**\n",
        "\n",
        "**PyPI - https://pypi.org/project/gym-video-streamer/1.0/**\n"
      ]
    },
    {
      "cell_type": "markdown",
      "metadata": {
        "id": "n0Hm-oE1-dwp"
      },
      "source": [
        "## **Gym Video Streaming Wrapper**"
      ]
    },
    {
      "cell_type": "code",
      "metadata": {
        "id": "dDR2kSXoNELX",
        "colab": {
          "base_uri": "https://localhost:8080/"
        },
        "outputId": "d445221e-a695-461d-90c8-9271f492c5d4"
      },
      "source": [
        "!pip install gym-video-streamer"
      ],
      "execution_count": null,
      "outputs": [
        {
          "output_type": "stream",
          "text": [
            "Collecting gym-video-streamer\n",
            "  Downloading https://files.pythonhosted.org/packages/b6/dc/ba259ccddec601ae2e61f1304e91d81f0accd1c3483f3e23a9c609a985df/gym_video_streamer-1.1.0-py3-none-any.whl\n",
            "Requirement already satisfied: gym>=0.17.3 in /usr/local/lib/python3.7/dist-packages (from gym-video-streamer) (0.17.3)\n",
            "Collecting pyvirtualdisplay>=2.2\n",
            "  Downloading https://files.pythonhosted.org/packages/79/30/e99e0c480a858410757e7516958e149285ea08ed6c9cfe201ed0aa12cee2/PyVirtualDisplay-2.2-py3-none-any.whl\n",
            "Requirement already satisfied: scipy in /usr/local/lib/python3.7/dist-packages (from gym>=0.17.3->gym-video-streamer) (1.4.1)\n",
            "Requirement already satisfied: cloudpickle<1.7.0,>=1.2.0 in /usr/local/lib/python3.7/dist-packages (from gym>=0.17.3->gym-video-streamer) (1.3.0)\n",
            "Requirement already satisfied: numpy>=1.10.4 in /usr/local/lib/python3.7/dist-packages (from gym>=0.17.3->gym-video-streamer) (1.19.5)\n",
            "Requirement already satisfied: pyglet<=1.5.0,>=1.4.0 in /usr/local/lib/python3.7/dist-packages (from gym>=0.17.3->gym-video-streamer) (1.5.0)\n",
            "Collecting EasyProcess\n",
            "  Downloading https://files.pythonhosted.org/packages/48/3c/75573613641c90c6d094059ac28adb748560d99bd27ee6f80cce398f404e/EasyProcess-0.3-py2.py3-none-any.whl\n",
            "Requirement already satisfied: future in /usr/local/lib/python3.7/dist-packages (from pyglet<=1.5.0,>=1.4.0->gym>=0.17.3->gym-video-streamer) (0.16.0)\n",
            "Installing collected packages: EasyProcess, pyvirtualdisplay, gym-video-streamer\n",
            "Successfully installed EasyProcess-0.3 gym-video-streamer-1.1.0 pyvirtualdisplay-2.2\n"
          ],
          "name": "stdout"
        }
      ]
    },
    {
      "cell_type": "code",
      "metadata": {
        "id": "2OiOz__sNGzi"
      },
      "source": [
        "import gym\n",
        "from gym_video_streamer import SetupVirtualDisplay\n",
        "from gym_video_streamer import VideoStreamer  # Streaming Wrapper"
      ],
      "execution_count": null,
      "outputs": []
    },
    {
      "cell_type": "code",
      "metadata": {
        "id": "t7xOMqsuNKlZ",
        "colab": {
          "base_uri": "https://localhost:8080/"
        },
        "outputId": "9339c878-3203-49c9-9a71-f36fdf6b29a4"
      },
      "source": [
        "# Set-up the Virtual Display only required for Google Colab\n",
        "SetupVirtualDisplay()"
      ],
      "execution_count": null,
      "outputs": [
        {
          "output_type": "stream",
          "text": [
            "ffmpeg is already installed !\n",
            "Installing xvfb ...\n",
            "Installed all the required packages.\n",
            "Virtual Display Setup complete!\n"
          ],
          "name": "stdout"
        }
      ]
    },
    {
      "cell_type": "code",
      "metadata": {
        "id": "NFIcaD5lTqVy"
      },
      "source": [
        "# !! This stream_info dictionary should be passed in this format only !!\n",
        "stream_info = {\n",
        "    \"URL\": \"rtmp://live.twitch.tv/app/\",\n",
        "    \"secret\": \"--- secret here ---\"\n",
        "}"
      ],
      "execution_count": null,
      "outputs": []
    },
    {
      "cell_type": "markdown",
      "metadata": {
        "id": "aK4oVF3Iobwh"
      },
      "source": [
        "## **Testing package for different gym env types**"
      ]
    },
    {
      "cell_type": "markdown",
      "metadata": {
        "id": "YGmTwRA8PdlE"
      },
      "source": [
        "### **Classic-control Gym Envs:**"
      ]
    },
    {
      "cell_type": "code",
      "metadata": {
        "id": "_3Z_kBRl7Gc7",
        "colab": {
          "base_uri": "https://localhost:8080/"
        },
        "outputId": "f2b89265-f795-4374-f1a4-258c566b5b4e"
      },
      "source": [
        "# => [min 100 episode for testing, so we can get see o/p on Twitch or else env episodes might complete before any frames were streamed (due to delay of few seconds)]\n",
        "env = VideoStreamer(gym.make(\"CartPole-v1\"), stream_info)"
      ],
      "execution_count": null,
      "outputs": [
        {
          "output_type": "stream",
          "text": [
            "------------------------------------------------------------------------------------------------------------------------\n",
            "Video Streaming Wrapper is ready to stream!!\n"
          ],
          "name": "stdout"
        }
      ]
    },
    {
      "cell_type": "code",
      "metadata": {
        "id": "8nj5sjsk15IT"
      },
      "source": [
        "# print(env.action_space)\n",
        "try:\n",
        "    observation = env.reset()\n",
        "    i = 0\n",
        "    while True:\n",
        "        if i == 100:\n",
        "            break\n",
        "\n",
        "        env.render()  # important to call render method on env !!\n",
        "        action = env.action_space.sample() \n",
        "        observation, reward, done, info = env.step(action)\n",
        "\n",
        "        if done:\n",
        "            env.reset()\n",
        "            i += 1\n",
        "except Exception as e:\n",
        "    print(e)\n",
        "finally:\n",
        "    env.close()"
      ],
      "execution_count": null,
      "outputs": []
    },
    {
      "cell_type": "markdown",
      "metadata": {
        "id": "GSb1PindTa2s"
      },
      "source": [
        "\n",
        "\n",
        "---\n",
        "\n",
        "\n",
        "### **Box2D Gym Envs:**\n",
        "\n",
        "---\n",
        "\n"
      ]
    },
    {
      "cell_type": "code",
      "metadata": {
        "id": "7__S6qoNTh2A"
      },
      "source": [
        "!pip install box2d box2d-py > /dev/null 2>&1"
      ],
      "execution_count": null,
      "outputs": []
    },
    {
      "cell_type": "code",
      "metadata": {
        "colab": {
          "base_uri": "https://localhost:8080/"
        },
        "id": "SXmZQsE4TkV8",
        "outputId": "ec5989bb-feda-4a7a-df96-fcdc49cc90d8"
      },
      "source": [
        "env = VideoStreamer(gym.make(\"LunarLanderContinuous-v2\"), stream_info)  # => [min 50 episode]\n",
        "\n",
        "# env = VideoStreamer(gym.make(\"BipedalWalker-v3\"), stream_info)  # => [min 25 episode]"
      ],
      "execution_count": null,
      "outputs": [
        {
          "output_type": "stream",
          "text": [
            "------------------------------------------------------------------------------------------------------------------------\n",
            "Video Streaming Wrapper is ready to stream!!\n"
          ],
          "name": "stdout"
        }
      ]
    },
    {
      "cell_type": "code",
      "metadata": {
        "id": "bxpGiKe_hdWX"
      },
      "source": [
        "# print(env.action_space)\n",
        "try:\n",
        "    observation = env.reset()\n",
        "    i = 0\n",
        "    while True:\n",
        "        if i == 100:\n",
        "            break\n",
        "\n",
        "        env.render()  # important to call render method on env !!\n",
        "        action = env.action_space.sample() \n",
        "        observation, reward, done, info = env.step(action)\n",
        "\n",
        "        if done:\n",
        "            env.reset()\n",
        "            i += 1\n",
        "except Exception as e:\n",
        "    print(e)\n",
        "finally:\n",
        "    env.close()"
      ],
      "execution_count": null,
      "outputs": []
    },
    {
      "cell_type": "markdown",
      "metadata": {
        "id": "Nf9gUTLBTFXo"
      },
      "source": [
        "\n",
        "\n",
        "---\n",
        "\n",
        "\n",
        "### **Atari Gym Envs:**\n",
        "\n",
        "\n",
        "---\n",
        "\n",
        "\n",
        "###### **Gives the setup error on Colab.**\n",
        "\n",
        "Error:\n",
        "> Exception: ROM is missing for breakout, see https://github.com/openai/atari-py#roms for instructions\n",
        "\n"
      ]
    },
    {
      "cell_type": "code",
      "metadata": {
        "id": "slv6qsuhR3g5"
      },
      "source": [
        "# ---- {Atari envs} ----\n",
        "# env = VideoStreamer(gym.make(\"Breakout-v0\"), stream_info)"
      ],
      "execution_count": null,
      "outputs": []
    },
    {
      "cell_type": "markdown",
      "metadata": {
        "id": "syFKiFB7TItV"
      },
      "source": [
        "\n",
        "\n",
        "---\n",
        "\n",
        "\n",
        "### **MuJoCo & Robotics Gym Envs:**\n",
        "\n",
        "\n",
        "---\n",
        "\n",
        "\n",
        "###### **Both gives the setup error on Colab because you have to set-up MuJoCo manually on colab.**\n",
        "\n",
        "Error:\n",
        "> Exception: You appear to be missing MuJoCo.  We expected to find the file here: /root/.mujoco/mujoco200. This package only provides python bindings, the library must be installed separately. https://github.com/openai/mujoco-py#install-mujoco}\n",
        "\n",
        "Solution:\n",
        "> **https://github.com/reinforcement-learning-kr/pg_travel/wiki/Installing-Mujoco-py-on-Linux**"
      ]
    },
    {
      "cell_type": "code",
      "metadata": {
        "id": "s2JYA0upTM0O"
      },
      "source": [
        "# ---- {MuJoCo env category} ----\n",
        "# env = VideoStreamer(gym.make(\"Ant-v2\"), stream_info)\n",
        "\n",
        "# ---- {Robotics env category} [This also depends on MuJoCo] ----\n",
        "# env = VideoStreamer(gym.make(\"FetchPickAndPlace-v1\"), stream_info)"
      ],
      "execution_count": null,
      "outputs": []
    }
  ]
}